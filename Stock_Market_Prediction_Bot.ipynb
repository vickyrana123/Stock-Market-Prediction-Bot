{
  "nbformat": 4,
  "nbformat_minor": 0,
  "metadata": {
    "colab": {
      "provenance": [],
      "authorship_tag": "ABX9TyNmMi8K0f+NzVvxCog+PQeX",
      "include_colab_link": true
    },
    "kernelspec": {
      "name": "python3",
      "display_name": "Python 3"
    },
    "language_info": {
      "name": "python"
    }
  },
  "cells": [
    {
      "cell_type": "markdown",
      "metadata": {
        "id": "view-in-github",
        "colab_type": "text"
      },
      "source": [
        "<a href=\"https://colab.research.google.com/github/vickyrana123/Stock-Market-Prediction-Bot/blob/main/Stock_Market_Prediction_Bot.ipynb\" target=\"_parent\"><img src=\"https://colab.research.google.com/assets/colab-badge.svg\" alt=\"Open In Colab\"/></a>"
      ]
    },
    {
      "cell_type": "code",
      "execution_count": 142,
      "metadata": {
        "id": "Z_h4Ia30KT0s"
      },
      "outputs": [],
      "source": [
        "import pandas as pd\n",
        "import numpy as np\n",
        "import math\n",
        "from datetime import date,timedelta\n",
        "from pandas.plotting import register_matplotlib_converters\n",
        "import matplotlib.pyplot as plt\n",
        "import matplotlib.dates as mplt\n",
        "from sklearn.preprocessing import MinMaxScaler\n",
        "from sklearn.metrics import mean_absolute_error, mean_squared_error\n",
        "from keras.models import Sequential\n",
        "from keras.layers import LSTM, Dense\n",
        "import yfinance as yf\n",
        "import matplotlib.dates as mdates\n",
        "\n"
      ]
    },
    {
      "cell_type": "code",
      "source": [
        "today=date.today()\n",
        "date_today=today.strftime(\"%Y-%m-%d\")\n",
        "date_start=\"2022-10-01\"\n"
      ],
      "metadata": {
        "id": "3EK-4porM50h"
      },
      "execution_count": 143,
      "outputs": []
    },
    {
      "cell_type": "markdown",
      "source": [
        "**Get Stock**"
      ],
      "metadata": {
        "id": "1aGhrdmpN4y-"
      }
    },
    {
      "cell_type": "code",
      "source": [
        "stock=input(\"Enter Stock Name:\")\n",
        "stockname=stock\n",
        "symbol = '^GSPC'\n",
        "df = yf.download(symbol, start=date_start, end=date_today)"
      ],
      "metadata": {
        "colab": {
          "base_uri": "https://localhost:8080/",
          "height": 0
        },
        "id": "2pIr5K5_N3Td",
        "outputId": "fc1e54df-6545-438a-9d1b-a91c6305f3ce"
      },
      "execution_count": 144,
      "outputs": [
        {
          "output_type": "stream",
          "name": "stdout",
          "text": [
            "Enter Stock Name:Tata Motor\n",
            "[*********************100%%**********************]  1 of 1 completed\n"
          ]
        }
      ]
    },
    {
      "cell_type": "code",
      "source": [
        "print(df.shape)\n"
      ],
      "metadata": {
        "colab": {
          "base_uri": "https://localhost:8080/",
          "height": 0
        },
        "id": "CwdNPZs4kva0",
        "outputId": "c0bd7f15-e52e-4005-f922-2b0fd9b495c3"
      },
      "execution_count": 145,
      "outputs": [
        {
          "output_type": "stream",
          "name": "stdout",
          "text": [
            "(257, 6)\n"
          ]
        }
      ]
    },
    {
      "cell_type": "code",
      "source": [
        "\n",
        "df.head(5)"
      ],
      "metadata": {
        "colab": {
          "base_uri": "https://localhost:8080/",
          "height": 237
        },
        "id": "bmdOd-MWlB6Q",
        "outputId": "d1954842-e4e0-446b-e827-fd57245b5810"
      },
      "execution_count": 146,
      "outputs": [
        {
          "output_type": "execute_result",
          "data": {
            "text/plain": [
              "                   Open         High          Low        Close    Adj Close  \\\n",
              "Date                                                                          \n",
              "2022-10-03  3609.780029  3698.350098  3604.929932  3678.429932  3678.429932   \n",
              "2022-10-04  3726.459961  3791.919922  3726.459961  3790.929932  3790.929932   \n",
              "2022-10-05  3753.250000  3806.909912  3722.659912  3783.280029  3783.280029   \n",
              "2022-10-06  3771.969971  3797.929932  3739.219971  3744.520020  3744.520020   \n",
              "2022-10-07  3706.739990  3706.739990  3620.729980  3639.659912  3639.659912   \n",
              "\n",
              "                Volume  \n",
              "Date                    \n",
              "2022-10-03  4806680000  \n",
              "2022-10-04  5146580000  \n",
              "2022-10-05  4293180000  \n",
              "2022-10-06  4252100000  \n",
              "2022-10-07  4449660000  "
            ],
            "text/html": [
              "\n",
              "  <div id=\"df-83e699ce-1723-42db-b0a2-f22b50e8d282\" class=\"colab-df-container\">\n",
              "    <div>\n",
              "<style scoped>\n",
              "    .dataframe tbody tr th:only-of-type {\n",
              "        vertical-align: middle;\n",
              "    }\n",
              "\n",
              "    .dataframe tbody tr th {\n",
              "        vertical-align: top;\n",
              "    }\n",
              "\n",
              "    .dataframe thead th {\n",
              "        text-align: right;\n",
              "    }\n",
              "</style>\n",
              "<table border=\"1\" class=\"dataframe\">\n",
              "  <thead>\n",
              "    <tr style=\"text-align: right;\">\n",
              "      <th></th>\n",
              "      <th>Open</th>\n",
              "      <th>High</th>\n",
              "      <th>Low</th>\n",
              "      <th>Close</th>\n",
              "      <th>Adj Close</th>\n",
              "      <th>Volume</th>\n",
              "    </tr>\n",
              "    <tr>\n",
              "      <th>Date</th>\n",
              "      <th></th>\n",
              "      <th></th>\n",
              "      <th></th>\n",
              "      <th></th>\n",
              "      <th></th>\n",
              "      <th></th>\n",
              "    </tr>\n",
              "  </thead>\n",
              "  <tbody>\n",
              "    <tr>\n",
              "      <th>2022-10-03</th>\n",
              "      <td>3609.780029</td>\n",
              "      <td>3698.350098</td>\n",
              "      <td>3604.929932</td>\n",
              "      <td>3678.429932</td>\n",
              "      <td>3678.429932</td>\n",
              "      <td>4806680000</td>\n",
              "    </tr>\n",
              "    <tr>\n",
              "      <th>2022-10-04</th>\n",
              "      <td>3726.459961</td>\n",
              "      <td>3791.919922</td>\n",
              "      <td>3726.459961</td>\n",
              "      <td>3790.929932</td>\n",
              "      <td>3790.929932</td>\n",
              "      <td>5146580000</td>\n",
              "    </tr>\n",
              "    <tr>\n",
              "      <th>2022-10-05</th>\n",
              "      <td>3753.250000</td>\n",
              "      <td>3806.909912</td>\n",
              "      <td>3722.659912</td>\n",
              "      <td>3783.280029</td>\n",
              "      <td>3783.280029</td>\n",
              "      <td>4293180000</td>\n",
              "    </tr>\n",
              "    <tr>\n",
              "      <th>2022-10-06</th>\n",
              "      <td>3771.969971</td>\n",
              "      <td>3797.929932</td>\n",
              "      <td>3739.219971</td>\n",
              "      <td>3744.520020</td>\n",
              "      <td>3744.520020</td>\n",
              "      <td>4252100000</td>\n",
              "    </tr>\n",
              "    <tr>\n",
              "      <th>2022-10-07</th>\n",
              "      <td>3706.739990</td>\n",
              "      <td>3706.739990</td>\n",
              "      <td>3620.729980</td>\n",
              "      <td>3639.659912</td>\n",
              "      <td>3639.659912</td>\n",
              "      <td>4449660000</td>\n",
              "    </tr>\n",
              "  </tbody>\n",
              "</table>\n",
              "</div>\n",
              "    <div class=\"colab-df-buttons\">\n",
              "\n",
              "  <div class=\"colab-df-container\">\n",
              "    <button class=\"colab-df-convert\" onclick=\"convertToInteractive('df-83e699ce-1723-42db-b0a2-f22b50e8d282')\"\n",
              "            title=\"Convert this dataframe to an interactive table.\"\n",
              "            style=\"display:none;\">\n",
              "\n",
              "  <svg xmlns=\"http://www.w3.org/2000/svg\" height=\"24px\" viewBox=\"0 -960 960 960\">\n",
              "    <path d=\"M120-120v-720h720v720H120Zm60-500h600v-160H180v160Zm220 220h160v-160H400v160Zm0 220h160v-160H400v160ZM180-400h160v-160H180v160Zm440 0h160v-160H620v160ZM180-180h160v-160H180v160Zm440 0h160v-160H620v160Z\"/>\n",
              "  </svg>\n",
              "    </button>\n",
              "\n",
              "  <style>\n",
              "    .colab-df-container {\n",
              "      display:flex;\n",
              "      gap: 12px;\n",
              "    }\n",
              "\n",
              "    .colab-df-convert {\n",
              "      background-color: #E8F0FE;\n",
              "      border: none;\n",
              "      border-radius: 50%;\n",
              "      cursor: pointer;\n",
              "      display: none;\n",
              "      fill: #1967D2;\n",
              "      height: 32px;\n",
              "      padding: 0 0 0 0;\n",
              "      width: 32px;\n",
              "    }\n",
              "\n",
              "    .colab-df-convert:hover {\n",
              "      background-color: #E2EBFA;\n",
              "      box-shadow: 0px 1px 2px rgba(60, 64, 67, 0.3), 0px 1px 3px 1px rgba(60, 64, 67, 0.15);\n",
              "      fill: #174EA6;\n",
              "    }\n",
              "\n",
              "    .colab-df-buttons div {\n",
              "      margin-bottom: 4px;\n",
              "    }\n",
              "\n",
              "    [theme=dark] .colab-df-convert {\n",
              "      background-color: #3B4455;\n",
              "      fill: #D2E3FC;\n",
              "    }\n",
              "\n",
              "    [theme=dark] .colab-df-convert:hover {\n",
              "      background-color: #434B5C;\n",
              "      box-shadow: 0px 1px 3px 1px rgba(0, 0, 0, 0.15);\n",
              "      filter: drop-shadow(0px 1px 2px rgba(0, 0, 0, 0.3));\n",
              "      fill: #FFFFFF;\n",
              "    }\n",
              "  </style>\n",
              "\n",
              "    <script>\n",
              "      const buttonEl =\n",
              "        document.querySelector('#df-83e699ce-1723-42db-b0a2-f22b50e8d282 button.colab-df-convert');\n",
              "      buttonEl.style.display =\n",
              "        google.colab.kernel.accessAllowed ? 'block' : 'none';\n",
              "\n",
              "      async function convertToInteractive(key) {\n",
              "        const element = document.querySelector('#df-83e699ce-1723-42db-b0a2-f22b50e8d282');\n",
              "        const dataTable =\n",
              "          await google.colab.kernel.invokeFunction('convertToInteractive',\n",
              "                                                    [key], {});\n",
              "        if (!dataTable) return;\n",
              "\n",
              "        const docLinkHtml = 'Like what you see? Visit the ' +\n",
              "          '<a target=\"_blank\" href=https://colab.research.google.com/notebooks/data_table.ipynb>data table notebook</a>'\n",
              "          + ' to learn more about interactive tables.';\n",
              "        element.innerHTML = '';\n",
              "        dataTable['output_type'] = 'display_data';\n",
              "        await google.colab.output.renderOutput(dataTable, element);\n",
              "        const docLink = document.createElement('div');\n",
              "        docLink.innerHTML = docLinkHtml;\n",
              "        element.appendChild(docLink);\n",
              "      }\n",
              "    </script>\n",
              "  </div>\n",
              "\n",
              "\n",
              "<div id=\"df-fcb78977-b7a7-4319-91ec-4aded08a6a58\">\n",
              "  <button class=\"colab-df-quickchart\" onclick=\"quickchart('df-fcb78977-b7a7-4319-91ec-4aded08a6a58')\"\n",
              "            title=\"Suggest charts.\"\n",
              "            style=\"display:none;\">\n",
              "\n",
              "<svg xmlns=\"http://www.w3.org/2000/svg\" height=\"24px\"viewBox=\"0 0 24 24\"\n",
              "     width=\"24px\">\n",
              "    <g>\n",
              "        <path d=\"M19 3H5c-1.1 0-2 .9-2 2v14c0 1.1.9 2 2 2h14c1.1 0 2-.9 2-2V5c0-1.1-.9-2-2-2zM9 17H7v-7h2v7zm4 0h-2V7h2v10zm4 0h-2v-4h2v4z\"/>\n",
              "    </g>\n",
              "</svg>\n",
              "  </button>\n",
              "\n",
              "<style>\n",
              "  .colab-df-quickchart {\n",
              "      --bg-color: #E8F0FE;\n",
              "      --fill-color: #1967D2;\n",
              "      --hover-bg-color: #E2EBFA;\n",
              "      --hover-fill-color: #174EA6;\n",
              "      --disabled-fill-color: #AAA;\n",
              "      --disabled-bg-color: #DDD;\n",
              "  }\n",
              "\n",
              "  [theme=dark] .colab-df-quickchart {\n",
              "      --bg-color: #3B4455;\n",
              "      --fill-color: #D2E3FC;\n",
              "      --hover-bg-color: #434B5C;\n",
              "      --hover-fill-color: #FFFFFF;\n",
              "      --disabled-bg-color: #3B4455;\n",
              "      --disabled-fill-color: #666;\n",
              "  }\n",
              "\n",
              "  .colab-df-quickchart {\n",
              "    background-color: var(--bg-color);\n",
              "    border: none;\n",
              "    border-radius: 50%;\n",
              "    cursor: pointer;\n",
              "    display: none;\n",
              "    fill: var(--fill-color);\n",
              "    height: 32px;\n",
              "    padding: 0;\n",
              "    width: 32px;\n",
              "  }\n",
              "\n",
              "  .colab-df-quickchart:hover {\n",
              "    background-color: var(--hover-bg-color);\n",
              "    box-shadow: 0 1px 2px rgba(60, 64, 67, 0.3), 0 1px 3px 1px rgba(60, 64, 67, 0.15);\n",
              "    fill: var(--button-hover-fill-color);\n",
              "  }\n",
              "\n",
              "  .colab-df-quickchart-complete:disabled,\n",
              "  .colab-df-quickchart-complete:disabled:hover {\n",
              "    background-color: var(--disabled-bg-color);\n",
              "    fill: var(--disabled-fill-color);\n",
              "    box-shadow: none;\n",
              "  }\n",
              "\n",
              "  .colab-df-spinner {\n",
              "    border: 2px solid var(--fill-color);\n",
              "    border-color: transparent;\n",
              "    border-bottom-color: var(--fill-color);\n",
              "    animation:\n",
              "      spin 1s steps(1) infinite;\n",
              "  }\n",
              "\n",
              "  @keyframes spin {\n",
              "    0% {\n",
              "      border-color: transparent;\n",
              "      border-bottom-color: var(--fill-color);\n",
              "      border-left-color: var(--fill-color);\n",
              "    }\n",
              "    20% {\n",
              "      border-color: transparent;\n",
              "      border-left-color: var(--fill-color);\n",
              "      border-top-color: var(--fill-color);\n",
              "    }\n",
              "    30% {\n",
              "      border-color: transparent;\n",
              "      border-left-color: var(--fill-color);\n",
              "      border-top-color: var(--fill-color);\n",
              "      border-right-color: var(--fill-color);\n",
              "    }\n",
              "    40% {\n",
              "      border-color: transparent;\n",
              "      border-right-color: var(--fill-color);\n",
              "      border-top-color: var(--fill-color);\n",
              "    }\n",
              "    60% {\n",
              "      border-color: transparent;\n",
              "      border-right-color: var(--fill-color);\n",
              "    }\n",
              "    80% {\n",
              "      border-color: transparent;\n",
              "      border-right-color: var(--fill-color);\n",
              "      border-bottom-color: var(--fill-color);\n",
              "    }\n",
              "    90% {\n",
              "      border-color: transparent;\n",
              "      border-bottom-color: var(--fill-color);\n",
              "    }\n",
              "  }\n",
              "</style>\n",
              "\n",
              "  <script>\n",
              "    async function quickchart(key) {\n",
              "      const quickchartButtonEl =\n",
              "        document.querySelector('#' + key + ' button');\n",
              "      quickchartButtonEl.disabled = true;  // To prevent multiple clicks.\n",
              "      quickchartButtonEl.classList.add('colab-df-spinner');\n",
              "      try {\n",
              "        const charts = await google.colab.kernel.invokeFunction(\n",
              "            'suggestCharts', [key], {});\n",
              "      } catch (error) {\n",
              "        console.error('Error during call to suggestCharts:', error);\n",
              "      }\n",
              "      quickchartButtonEl.classList.remove('colab-df-spinner');\n",
              "      quickchartButtonEl.classList.add('colab-df-quickchart-complete');\n",
              "    }\n",
              "    (() => {\n",
              "      let quickchartButtonEl =\n",
              "        document.querySelector('#df-fcb78977-b7a7-4319-91ec-4aded08a6a58 button');\n",
              "      quickchartButtonEl.style.display =\n",
              "        google.colab.kernel.accessAllowed ? 'block' : 'none';\n",
              "    })();\n",
              "  </script>\n",
              "</div>\n",
              "    </div>\n",
              "  </div>\n"
            ]
          },
          "metadata": {},
          "execution_count": 146
        }
      ]
    },
    {
      "cell_type": "code",
      "source": [
        "register_matplotlib_converters()\n",
        "years = mdates.YearLocator()\n",
        "fig, ax1 = plt.subplots(figsize=(16, 6))\n",
        "ax1.xaxis.set_major_locator(years)\n",
        "x = df.index\n",
        "y = df['Close']\n",
        "ax1.fill_between(x, 0, y, color='#b9e1fa')\n",
        "ax1.legend([stockname], fontsize=12)\n",
        "plt.title(stockname + ' from '+ date_start + ' to ' + date_today, fontsize=16)\n",
        "plt.plot(y, color='#039dfc', label=stockname, linewidth=1.0)\n",
        "plt.ylabel('Stocks', fontsize=12)\n",
        "plt.show()"
      ],
      "metadata": {
        "colab": {
          "base_uri": "https://localhost:8080/",
          "height": 526
        },
        "id": "7SN5LEfdlSqM",
        "outputId": "ef089e04-9521-40c0-e01f-f67c99a8d313"
      },
      "execution_count": 147,
      "outputs": [
        {
          "output_type": "display_data",
          "data": {
            "text/plain": [
              "<Figure size 1600x600 with 1 Axes>"
            ],
            "image/png": "[encoded data removed]"
          },
          "metadata": {}
        }
      ]
    },
    {
      "cell_type": "code",
      "source": [
        "train_df = df.filter(['Close'])\n",
        "data_unscaled = train_df.values"
      ],
      "metadata": {
        "id": "cP7TMMfhlhh-"
      },
      "execution_count": 148,
      "outputs": []
    },
    {
      "cell_type": "markdown",
      "source": [
        "**Train the model on 80% of the data**"
      ],
      "metadata": {
        "id": "shpLJaLJlo3w"
      }
    },
    {
      "cell_type": "code",
      "source": [
        "train_data_length = math.ceil(len(data_unscaled) * 0.8)"
      ],
      "metadata": {
        "id": "jgATr40elSrg"
      },
      "execution_count": 149,
      "outputs": []
    },
    {
      "cell_type": "code",
      "source": [
        "mmscaler = MinMaxScaler(feature_range=(0, 1))\n",
        "np_data = mmscaler.fit_transform(data_unscaled)\n",
        "\n",
        "sequence_length = 50"
      ],
      "metadata": {
        "id": "MBq_Ked7lzh-"
      },
      "execution_count": 150,
      "outputs": []
    },
    {
      "cell_type": "code",
      "source": [
        "index_Close = train_df.columns.get_loc(\"Close\")\n",
        "print(index_Close)"
      ],
      "metadata": {
        "colab": {
          "base_uri": "https://localhost:8080/",
          "height": 0
        },
        "id": "5fbH7eIDl3Om",
        "outputId": "cfc06723-f09f-442d-ab34-a271f81a3349"
      },
      "execution_count": 151,
      "outputs": [
        {
          "output_type": "stream",
          "name": "stdout",
          "text": [
            "0\n"
          ]
        }
      ]
    },
    {
      "cell_type": "code",
      "source": [
        "train_data_len = math.ceil(np_data.shape[0] * 0.8)"
      ],
      "metadata": {
        "id": "L5g7Gr_Nl7Nf"
      },
      "execution_count": 152,
      "outputs": []
    },
    {
      "cell_type": "code",
      "source": [
        "train_data = np_data[0:train_data_len, :]\n",
        "test_data = np_data[train_data_len - sequence_length:, :]"
      ],
      "metadata": {
        "id": "sKpDO_CMl-uv"
      },
      "execution_count": 153,
      "outputs": []
    },
    {
      "cell_type": "code",
      "source": [
        "def partition_dataset(sequence_length, train_df):\n",
        "    x, y = [], []\n",
        "    data_len = train_df.shape[0]\n",
        "    for i in range(sequence_length, data_len):\n",
        "        x.append(train_df[i - sequence_length:i, :])  # contains sequence_length values 0-sequence_length * columsn\n",
        "        y.append(train_df[\n",
        "                     i, index_Close])\n",
        "    x = np.array(x)\n",
        "    y = np.array(y)\n",
        "    return x, y"
      ],
      "metadata": {
        "id": "67HiVV90mEyg"
      },
      "execution_count": 154,
      "outputs": []
    },
    {
      "cell_type": "code",
      "source": [
        "x_train, y_train = partition_dataset(sequence_length, train_data)\n",
        "x_test, y_test = partition_dataset(sequence_length, test_data)\n",
        "print(x_train.shape, y_train.shape)\n",
        "print(x_test.shape, y_test.shape)\n"
      ],
      "metadata": {
        "colab": {
          "base_uri": "https://localhost:8080/",
          "height": 0
        },
        "id": "NJwBwyHfmTMS",
        "outputId": "98490792-da11-4612-bd6b-03ee46bef543"
      },
      "execution_count": 155,
      "outputs": [
        {
          "output_type": "stream",
          "name": "stdout",
          "text": [
            "(156, 50, 1) (156,)\n",
            "(51, 50, 1) (51,)\n"
          ]
        }
      ]
    },
    {
      "cell_type": "code",
      "source": [
        "print(x_test[1][sequence_length - 1][index_Close])\n",
        "print(y_test[0])"
      ],
      "metadata": {
        "colab": {
          "base_uri": "https://localhost:8080/",
          "height": 0
        },
        "id": "K628FyupmbBR",
        "outputId": "63bb33e0-d5de-489c-f007-29526c43a440"
      },
      "execution_count": 156,
      "outputs": [
        {
          "output_type": "stream",
          "name": "stdout",
          "text": [
            "1.0000000000000004\n",
            "1.0000000000000004\n"
          ]
        }
      ]
    },
    {
      "cell_type": "code",
      "source": [
        "model = Sequential()\n",
        "\n",
        "neurons = sequence_length\n",
        "\n",
        "# Model with sequence_length Neurons\n",
        "# inputshape = sequence_length Timestamps\n",
        "model.add(LSTM(neurons, return_sequences=True, input_shape=(x_train.shape[1], 1)))\n",
        "model.add(LSTM(neurons, return_sequences=False))\n",
        "model.add(Dense(8, activation='relu'))\n",
        "model.add(Dense(1))"
      ],
      "metadata": {
        "id": "jk5Tf1YlmekB"
      },
      "execution_count": 157,
      "outputs": []
    },
    {
      "cell_type": "code",
      "source": [
        "model.compile(optimizer='adam', loss='mean_squared_error')\n",
        "\n",
        "model.fit(x_train, y_train, batch_size=16, epochs=8)\n",
        "\n",
        "\n",
        "y_pred_scaled = model.predict(x_test)\n",
        "y_pred = mmscaler.inverse_transform(y_pred_scaled)\n",
        "y_test_unscaled = mmscaler.inverse_transform(y_test.reshape(-1, 1))"
      ],
      "metadata": {
        "colab": {
          "base_uri": "https://localhost:8080/",
          "height": 0
        },
        "id": "deN2bbJpmjeM",
        "outputId": "b540545c-af2e-4760-b879-b3ac221cd786"
      },
      "execution_count": 158,
      "outputs": [
        {
          "output_type": "stream",
          "name": "stdout",
          "text": [
            "Epoch 1/8\n",
            "10/10 [==============================] - 3s 25ms/step - loss: 0.2000\n",
            "Epoch 2/8\n",
            "10/10 [==============================] - 0s 22ms/step - loss: 0.0317\n",
            "Epoch 3/8\n",
            "10/10 [==============================] - 0s 27ms/step - loss: 0.0226\n",
            "Epoch 4/8\n",
            "10/10 [==============================] - 0s 25ms/step - loss: 0.0151\n",
            "Epoch 5/8\n",
            "10/10 [==============================] - 0s 25ms/step - loss: 0.0132\n",
            "Epoch 6/8\n",
            "10/10 [==============================] - 0s 26ms/step - loss: 0.0104\n",
            "Epoch 7/8\n",
            "10/10 [==============================] - 0s 26ms/step - loss: 0.0083\n",
            "Epoch 8/8\n",
            "10/10 [==============================] - 0s 24ms/step - loss: 0.0070\n"
          ]
        },
        {
          "output_type": "stream",
          "name": "stderr",
          "text": [
            "WARNING:tensorflow:5 out of the last 14 calls to <function Model.make_predict_function.<locals>.predict_function at 0x7e2065607d00> triggered tf.function retracing. Tracing is expensive and the excessive number of tracings could be due to (1) creating @tf.function repeatedly in a loop, (2) passing tensors with different shapes, (3) passing Python objects instead of tensors. For (1), please define your @tf.function outside of the loop. For (2), @tf.function has reduce_retracing=True option that can avoid unnecessary retracing. For (3), please refer to https://www.tensorflow.org/guide/function#controlling_retracing and https://www.tensorflow.org/api_docs/python/tf/function for  more details.\n"
          ]
        },
        {
          "output_type": "stream",
          "name": "stdout",
          "text": [
            "2/2 [==============================] - 1s 10ms/step\n"
          ]
        }
      ]
    },
    {
      "cell_type": "code",
      "source": [
        "MAE = mean_absolute_error(y_test_unscaled, y_pred)\n",
        "print(f'Median Absolute Error (MAE): {np.round(MAE, 2)}')"
      ],
      "metadata": {
        "colab": {
          "base_uri": "https://localhost:8080/",
          "height": 0
        },
        "id": "kTnySLqgmtC9",
        "outputId": "54cc5eef-5492-4a9e-9f3d-e59b0075eb85"
      },
      "execution_count": 159,
      "outputs": [
        {
          "output_type": "stream",
          "name": "stdout",
          "text": [
            "Median Absolute Error (MAE): 87.67\n"
          ]
        }
      ]
    },
    {
      "cell_type": "code",
      "source": [
        "MAPE = np.mean((np.abs(np.subtract(y_test_unscaled, y_pred)/ y_test_unscaled))) * 100\n",
        "print(f'Mean Absolute Percentage Error (MAPE): {np.round(MAPE, 2)} %')"
      ],
      "metadata": {
        "colab": {
          "base_uri": "https://localhost:8080/",
          "height": 0
        },
        "id": "A9xWE964mwKy",
        "outputId": "e302bbc3-67fe-40cf-a78e-a3664bd2ad8b"
      },
      "execution_count": 160,
      "outputs": [
        {
          "output_type": "stream",
          "name": "stdout",
          "text": [
            "Mean Absolute Percentage Error (MAPE): 2.01 %\n"
          ]
        }
      ]
    },
    {
      "cell_type": "code",
      "source": [
        "MDAPE = np.median((np.abs(np.subtract(y_test_unscaled, y_pred)/ y_test_unscaled)) ) * 100\n",
        "print(f'Median Absolute Percentage Error (MDAPE): {np.round(MDAPE, 2)} %')"
      ],
      "metadata": {
        "colab": {
          "base_uri": "https://localhost:8080/",
          "height": 0
        },
        "id": "_pfkuWcamzx6",
        "outputId": "10167d4d-9afb-42bb-a062-418cf8fc59cb"
      },
      "execution_count": 161,
      "outputs": [
        {
          "output_type": "stream",
          "name": "stdout",
          "text": [
            "Median Absolute Percentage Error (MDAPE): 1.61 %\n"
          ]
        }
      ]
    },
    {
      "cell_type": "code",
      "source": [
        "display_start_date = \"2022-01-01\""
      ],
      "metadata": {
        "id": "u7bTJ4hbm3bt"
      },
      "execution_count": 162,
      "outputs": []
    },
    {
      "cell_type": "code",
      "source": [
        "train = train_df[:train_data_length + 1]\n",
        "valid = train_df[train_data_length:]\n",
        "valid.insert(1, \"Predictions\", y_pred, True)\n",
        "valid.insert(1, \"Difference\", valid[\"Predictions\"] - valid[\"Close\"], True)"
      ],
      "metadata": {
        "id": "go7yTs4Om6A0"
      },
      "execution_count": 163,
      "outputs": []
    },
    {
      "cell_type": "code",
      "source": [
        "valid = valid[valid.index > display_start_date]\n",
        "train = train[train.index > display_start_date]"
      ],
      "metadata": {
        "id": "M5XyrZ0Wm9V2"
      },
      "execution_count": 164,
      "outputs": []
    },
    {
      "cell_type": "code",
      "source": [
        "fig, ax = plt.subplots(figsize=(16, 8), sharex=True)\n",
        "\n",
        "plt.title(\"Predictions vs Ground Truth\", fontsize=20)\n",
        "plt.ylabel(stockname, fontsize=18)\n",
        "plt.plot(train[\"Close\"], color=\"#039dfc\", linewidth=1.0)\n",
        "plt.plot(valid[\"Predictions\"], color=\"#E91D9E\", linewidth=1.0)\n",
        "plt.plot(valid[\"Close\"], color=\"black\", linewidth=1.0)\n",
        "plt.legend([\"Train\", \"Test Predictions\", \"Ground Truth\"], loc=\"upper left\")"
      ],
      "metadata": {
        "colab": {
          "base_uri": "https://localhost:8080/",
          "height": 694
        },
        "id": "t48FU6nmnAMa",
        "outputId": "6ff08451-5229-49fc-f28d-e3f0e9bf7ab4"
      },
      "execution_count": 165,
      "outputs": [
        {
          "output_type": "execute_result",
          "data": {
            "text/plain": [
              "<matplotlib.legend.Legend at 0x7e2066081ff0>"
            ]
          },
          "metadata": {},
          "execution_count": 165
        },
        {
          "output_type": "display_data",
          "data": {
            "text/plain": [
              "<Figure size 1600x800 with 1 Axes>"
            ],
            "image/png": "[encoded data removed]"
          },
          "metadata": {}
        }
      ]
    },
    {
      "cell_type": "code",
      "source": [
        "valid.loc[valid[\"Difference\"] >= 0, 'diff_color'] = \"#2BC97A\"\n",
        "valid.loc[valid[\"Difference\"] < 0, 'diff_color'] = \"#C92B2B\"\n",
        "plt.bar(valid.index, valid[\"Difference\"], width=0.8, color=valid['diff_color'])\n",
        "\n",
        "plt.show()"
      ],
      "metadata": {
        "colab": {
          "base_uri": "https://localhost:8080/",
          "height": 430
        },
        "id": "xklAEBl6nEkx",
        "outputId": "59ea9f4f-7889-4f31-9cee-56f2a3845ac2"
      },
      "execution_count": 166,
      "outputs": [
        {
          "output_type": "display_data",
          "data": {
            "text/plain": [
              "<Figure size 640x480 with 1 Axes>"
            ],
            "image/png": "[encoded data removed]"
          },
          "metadata": {}
        }
      ]
    },
    {
      "cell_type": "code",
      "source": [
        "dif = valid['Close'] - valid['Predictions']\n",
        "valid.insert(2, 'Difference', dif, True)\n",
        "valid.tail(5)"
      ],
      "metadata": {
        "colab": {
          "base_uri": "https://localhost:8080/",
          "height": 237
        },
        "id": "YIzlNr67nG2q",
        "outputId": "2c21b2b4-64c2-428d-950c-a7502d0892e8"
      },
      "execution_count": 167,
      "outputs": [
        {
          "output_type": "execute_result",
          "data": {
            "text/plain": [
              "                  Close  Difference  Difference  Predictions diff_color\n",
              "Date                                                                   \n",
              "2023-10-04  4263.750000  160.365234 -160.365234  4424.115234    #2BC97A\n",
              "2023-10-05  4258.189941  154.762207 -154.762207  4412.952148    #2BC97A\n",
              "2023-10-06  4308.500000   93.434570  -93.434570  4401.934570    #2BC97A\n",
              "2023-10-09  4335.660156   56.944336  -56.944336  4392.604492    #2BC97A\n",
              "2023-10-10  4358.240234   26.947266  -26.947266  4385.187500    #2BC97A"
            ],
            "text/html": [
              "\n",
              "  <div id=\"df-48f95ac8-52ab-44c1-890f-bf4be83d9032\" class=\"colab-df-container\">\n",
              "    <div>\n",
              "<style scoped>\n",
              "    .dataframe tbody tr th:only-of-type {\n",
              "        vertical-align: middle;\n",
              "    }\n",
              "\n",
              "    .dataframe tbody tr th {\n",
              "        vertical-align: top;\n",
              "    }\n",
              "\n",
              "    .dataframe thead th {\n",
              "        text-align: right;\n",
              "    }\n",
              "</style>\n",
              "<table border=\"1\" class=\"dataframe\">\n",
              "  <thead>\n",
              "    <tr style=\"text-align: right;\">\n",
              "      <th></th>\n",
              "      <th>Close</th>\n",
              "      <th>Difference</th>\n",
              "      <th>Difference</th>\n",
              "      <th>Predictions</th>\n",
              "      <th>diff_color</th>\n",
              "    </tr>\n",
              "    <tr>\n",
              "      <th>Date</th>\n",
              "      <th></th>\n",
              "      <th></th>\n",
              "      <th></th>\n",
              "      <th></th>\n",
              "      <th></th>\n",
              "    </tr>\n",
              "  </thead>\n",
              "  <tbody>\n",
              "    <tr>\n",
              "      <th>2023-10-04</th>\n",
              "      <td>4263.750000</td>\n",
              "      <td>160.365234</td>\n",
              "      <td>-160.365234</td>\n",
              "      <td>4424.115234</td>\n",
              "      <td>#2BC97A</td>\n",
              "    </tr>\n",
              "    <tr>\n",
              "      <th>2023-10-05</th>\n",
              "      <td>4258.189941</td>\n",
              "      <td>154.762207</td>\n",
              "      <td>-154.762207</td>\n",
              "      <td>4412.952148</td>\n",
              "      <td>#2BC97A</td>\n",
              "    </tr>\n",
              "    <tr>\n",
              "      <th>2023-10-06</th>\n",
              "      <td>4308.500000</td>\n",
              "      <td>93.434570</td>\n",
              "      <td>-93.434570</td>\n",
              "      <td>4401.934570</td>\n",
              "      <td>#2BC97A</td>\n",
              "    </tr>\n",
              "    <tr>\n",
              "      <th>2023-10-09</th>\n",
              "      <td>4335.660156</td>\n",
              "      <td>56.944336</td>\n",
              "      <td>-56.944336</td>\n",
              "      <td>4392.604492</td>\n",
              "      <td>#2BC97A</td>\n",
              "    </tr>\n",
              "    <tr>\n",
              "      <th>2023-10-10</th>\n",
              "      <td>4358.240234</td>\n",
              "      <td>26.947266</td>\n",
              "      <td>-26.947266</td>\n",
              "      <td>4385.187500</td>\n",
              "      <td>#2BC97A</td>\n",
              "    </tr>\n",
              "  </tbody>\n",
              "</table>\n",
              "</div>\n",
              "    <div class=\"colab-df-buttons\">\n",
              "\n",
              "  <div class=\"colab-df-container\">\n",
              "    <button class=\"colab-df-convert\" onclick=\"convertToInteractive('df-48f95ac8-52ab-44c1-890f-bf4be83d9032')\"\n",
              "            title=\"Convert this dataframe to an interactive table.\"\n",
              "            style=\"display:none;\">\n",
              "\n",
              "  <svg xmlns=\"http://www.w3.org/2000/svg\" height=\"24px\" viewBox=\"0 -960 960 960\">\n",
              "    <path d=\"M120-120v-720h720v720H120Zm60-500h600v-160H180v160Zm220 220h160v-160H400v160Zm0 220h160v-160H400v160ZM180-400h160v-160H180v160Zm440 0h160v-160H620v160ZM180-180h160v-160H180v160Zm440 0h160v-160H620v160Z\"/>\n",
              "  </svg>\n",
              "    </button>\n",
              "\n",
              "  <style>\n",
              "    .colab-df-container {\n",
              "      display:flex;\n",
              "      gap: 12px;\n",
              "    }\n",
              "\n",
              "    .colab-df-convert {\n",
              "      background-color: #E8F0FE;\n",
              "      border: none;\n",
              "      border-radius: 50%;\n",
              "      cursor: pointer;\n",
              "      display: none;\n",
              "      fill: #1967D2;\n",
              "      height: 32px;\n",
              "      padding: 0 0 0 0;\n",
              "      width: 32px;\n",
              "    }\n",
              "\n",
              "    .colab-df-convert:hover {\n",
              "      background-color: #E2EBFA;\n",
              "      box-shadow: 0px 1px 2px rgba(60, 64, 67, 0.3), 0px 1px 3px 1px rgba(60, 64, 67, 0.15);\n",
              "      fill: #174EA6;\n",
              "    }\n",
              "\n",
              "    .colab-df-buttons div {\n",
              "      margin-bottom: 4px;\n",
              "    }\n",
              "\n",
              "    [theme=dark] .colab-df-convert {\n",
              "      background-color: #3B4455;\n",
              "      fill: #D2E3FC;\n",
              "    }\n",
              "\n",
              "    [theme=dark] .colab-df-convert:hover {\n",
              "      background-color: #434B5C;\n",
              "      box-shadow: 0px 1px 3px 1px rgba(0, 0, 0, 0.15);\n",
              "      filter: drop-shadow(0px 1px 2px rgba(0, 0, 0, 0.3));\n",
              "      fill: #FFFFFF;\n",
              "    }\n",
              "  </style>\n",
              "\n",
              "    <script>\n",
              "      const buttonEl =\n",
              "        document.querySelector('#df-48f95ac8-52ab-44c1-890f-bf4be83d9032 button.colab-df-convert');\n",
              "      buttonEl.style.display =\n",
              "        google.colab.kernel.accessAllowed ? 'block' : 'none';\n",
              "\n",
              "      async function convertToInteractive(key) {\n",
              "        const element = document.querySelector('#df-48f95ac8-52ab-44c1-890f-bf4be83d9032');\n",
              "        const dataTable =\n",
              "          await google.colab.kernel.invokeFunction('convertToInteractive',\n",
              "                                                    [key], {});\n",
              "        if (!dataTable) return;\n",
              "\n",
              "        const docLinkHtml = 'Like what you see? Visit the ' +\n",
              "          '<a target=\"_blank\" href=https://colab.research.google.com/notebooks/data_table.ipynb>data table notebook</a>'\n",
              "          + ' to learn more about interactive tables.';\n",
              "        element.innerHTML = '';\n",
              "        dataTable['output_type'] = 'display_data';\n",
              "        await google.colab.output.renderOutput(dataTable, element);\n",
              "        const docLink = document.createElement('div');\n",
              "        docLink.innerHTML = docLinkHtml;\n",
              "        element.appendChild(docLink);\n",
              "      }\n",
              "    </script>\n",
              "  </div>\n",
              "\n",
              "\n",
              "<div id=\"df-171e3316-5393-4b22-a0f6-8a74d5775749\">\n",
              "  <button class=\"colab-df-quickchart\" onclick=\"quickchart('df-171e3316-5393-4b22-a0f6-8a74d5775749')\"\n",
              "            title=\"Suggest charts.\"\n",
              "            style=\"display:none;\">\n",
              "\n",
              "<svg xmlns=\"http://www.w3.org/2000/svg\" height=\"24px\"viewBox=\"0 0 24 24\"\n",
              "     width=\"24px\">\n",
              "    <g>\n",
              "        <path d=\"M19 3H5c-1.1 0-2 .9-2 2v14c0 1.1.9 2 2 2h14c1.1 0 2-.9 2-2V5c0-1.1-.9-2-2-2zM9 17H7v-7h2v7zm4 0h-2V7h2v10zm4 0h-2v-4h2v4z\"/>\n",
              "    </g>\n",
              "</svg>\n",
              "  </button>\n",
              "\n",
              "<style>\n",
              "  .colab-df-quickchart {\n",
              "      --bg-color: #E8F0FE;\n",
              "      --fill-color: #1967D2;\n",
              "      --hover-bg-color: #E2EBFA;\n",
              "      --hover-fill-color: #174EA6;\n",
              "      --disabled-fill-color: #AAA;\n",
              "      --disabled-bg-color: #DDD;\n",
              "  }\n",
              "\n",
              "  [theme=dark] .colab-df-quickchart {\n",
              "      --bg-color: #3B4455;\n",
              "      --fill-color: #D2E3FC;\n",
              "      --hover-bg-color: #434B5C;\n",
              "      --hover-fill-color: #FFFFFF;\n",
              "      --disabled-bg-color: #3B4455;\n",
              "      --disabled-fill-color: #666;\n",
              "  }\n",
              "\n",
              "  .colab-df-quickchart {\n",
              "    background-color: var(--bg-color);\n",
              "    border: none;\n",
              "    border-radius: 50%;\n",
              "    cursor: pointer;\n",
              "    display: none;\n",
              "    fill: var(--fill-color);\n",
              "    height: 32px;\n",
              "    padding: 0;\n",
              "    width: 32px;\n",
              "  }\n",
              "\n",
              "  .colab-df-quickchart:hover {\n",
              "    background-color: var(--hover-bg-color);\n",
              "    box-shadow: 0 1px 2px rgba(60, 64, 67, 0.3), 0 1px 3px 1px rgba(60, 64, 67, 0.15);\n",
              "    fill: var(--button-hover-fill-color);\n",
              "  }\n",
              "\n",
              "  .colab-df-quickchart-complete:disabled,\n",
              "  .colab-df-quickchart-complete:disabled:hover {\n",
              "    background-color: var(--disabled-bg-color);\n",
              "    fill: var(--disabled-fill-color);\n",
              "    box-shadow: none;\n",
              "  }\n",
              "\n",
              "  .colab-df-spinner {\n",
              "    border: 2px solid var(--fill-color);\n",
              "    border-color: transparent;\n",
              "    border-bottom-color: var(--fill-color);\n",
              "    animation:\n",
              "      spin 1s steps(1) infinite;\n",
              "  }\n",
              "\n",
              "  @keyframes spin {\n",
              "    0% {\n",
              "      border-color: transparent;\n",
              "      border-bottom-color: var(--fill-color);\n",
              "      border-left-color: var(--fill-color);\n",
              "    }\n",
              "    20% {\n",
              "      border-color: transparent;\n",
              "      border-left-color: var(--fill-color);\n",
              "      border-top-color: var(--fill-color);\n",
              "    }\n",
              "    30% {\n",
              "      border-color: transparent;\n",
              "      border-left-color: var(--fill-color);\n",
              "      border-top-color: var(--fill-color);\n",
              "      border-right-color: var(--fill-color);\n",
              "    }\n",
              "    40% {\n",
              "      border-color: transparent;\n",
              "      border-right-color: var(--fill-color);\n",
              "      border-top-color: var(--fill-color);\n",
              "    }\n",
              "    60% {\n",
              "      border-color: transparent;\n",
              "      border-right-color: var(--fill-color);\n",
              "    }\n",
              "    80% {\n",
              "      border-color: transparent;\n",
              "      border-right-color: var(--fill-color);\n",
              "      border-bottom-color: var(--fill-color);\n",
              "    }\n",
              "    90% {\n",
              "      border-color: transparent;\n",
              "      border-bottom-color: var(--fill-color);\n",
              "    }\n",
              "  }\n",
              "</style>\n",
              "\n",
              "  <script>\n",
              "    async function quickchart(key) {\n",
              "      const quickchartButtonEl =\n",
              "        document.querySelector('#' + key + ' button');\n",
              "      quickchartButtonEl.disabled = true;  // To prevent multiple clicks.\n",
              "      quickchartButtonEl.classList.add('colab-df-spinner');\n",
              "      try {\n",
              "        const charts = await google.colab.kernel.invokeFunction(\n",
              "            'suggestCharts', [key], {});\n",
              "      } catch (error) {\n",
              "        console.error('Error during call to suggestCharts:', error);\n",
              "      }\n",
              "      quickchartButtonEl.classList.remove('colab-df-spinner');\n",
              "      quickchartButtonEl.classList.add('colab-df-quickchart-complete');\n",
              "    }\n",
              "    (() => {\n",
              "      let quickchartButtonEl =\n",
              "        document.querySelector('#df-171e3316-5393-4b22-a0f6-8a74d5775749 button');\n",
              "      quickchartButtonEl.style.display =\n",
              "        google.colab.kernel.accessAllowed ? 'block' : 'none';\n",
              "    })();\n",
              "  </script>\n",
              "</div>\n",
              "    </div>\n",
              "  </div>\n"
            ]
          },
          "metadata": {},
          "execution_count": 167
        }
      ]
    },
    {
      "cell_type": "code",
      "source": [
        "df_new = df.filter(['Close'])\n",
        "last_days_scaled = mmscaler.transform(df_new[-sequence_length:].values)"
      ],
      "metadata": {
        "id": "_Y83DH77nKw6"
      },
      "execution_count": 168,
      "outputs": []
    },
    {
      "cell_type": "code",
      "source": [
        "X_test = []\n",
        "X_test.append(last_days_scaled)\n",
        "X_test = np.array(X_test)\n",
        "X_test = np.reshape(X_test, (X_test.shape[0], X_test.shape[1], 1))"
      ],
      "metadata": {
        "id": "fTiK1Y8rnPGF"
      },
      "execution_count": 169,
      "outputs": []
    },
    {
      "cell_type": "code",
      "source": [
        "pred_price = model.predict(X_test)\n",
        "pred_price_unscaled = mmscaler.inverse_transform(pred_price)\n",
        "price_today = round(df_new['Close'][-1], 2)\n",
        "predicted_price = round(pred_price_unscaled.ravel()[0], 2)\n",
        "percent = round(100 - (predicted_price * 100)/price_today, 2)\n",
        "\n",
        "plus = '+'; minus = ''\n",
        "print(f'The close price for {stockname} at {today} was {price_today}')\n",
        "print(f'The predicted close price is {predicted_price} ({plus if percent > 0 else minus}{percent}%)')\n"
      ],
      "metadata": {
        "colab": {
          "base_uri": "https://localhost:8080/",
          "height": 0
        },
        "id": "VPlyKRohnTui",
        "outputId": "ebdcabef-2703-42c4-f3bf-665feb07ac76"
      },
      "execution_count": 170,
      "outputs": [
        {
          "output_type": "stream",
          "name": "stdout",
          "text": [
            "1/1 [==============================] - 0s 18ms/step\n",
            "The close price for Tata Motor at 2023-10-11 was 4358.24\n",
            "The predicted close price is 4379.8701171875 (-0.5%)\n"
          ]
        }
      ]
    }
  ]
}